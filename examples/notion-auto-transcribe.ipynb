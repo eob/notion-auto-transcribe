{
 "cells": [
  {
   "cell_type": "code",
   "execution_count": null,
   "metadata": {
    "pycharm": {
     "name": "#%%\n"
    }
   },
   "outputs": [],
   "source": [
    "%pip install --upgrade steamship"
   ]
  },
  {
   "cell_type": "code",
   "execution_count": null,
   "metadata": {
    "pycharm": {
     "name": "#%%\n"
    }
   },
   "outputs": [],
   "source": [
    "from steamship import Steamship"
   ]
  },
  {
   "cell_type": "markdown",
   "metadata": {},
   "source": [
    "# my-package Demo - Steamship Python Client\n",
    "\n",
    "This notebook provides an example of using `my-package` from Steamship's Python client.\n",
    "\n",
    "To authenticate with Steamship, install the Steamship CLI with:\n",
    "\n",
    "```bash\n",
    "> npm install -g @steamship/cli\n",
    "```\n",
    "\n",
    "And then login with:\n",
    "\n",
    "```bash\n",
    "> ship login\n",
    "```\n",
    "\n",
    "Note that this notebook uses the following Python dependencies not included in `requirements.txt`:\n",
    "\n",
    "* pandas"
   ]
  },
  {
   "cell_type": "code",
   "execution_count": null,
   "metadata": {},
   "outputs": [],
   "source": [
    "# Create an instance of the package. Credentials will be loaded from ~/.steamship.json\n",
    "instance = Steamship.use(\"notion-auto-transcribe\", \"ted-notion-test-4\", config={\n",
    "    \"notion_key\": \"TODO-PUT-HERE\"\n",
    "})"
   ]
  },
  {
   "cell_type": "code",
   "execution_count": null,
   "metadata": {
    "pycharm": {
     "name": "#%%\n"
    }
   },
   "outputs": [],
   "source": [
    "# Now let's use the package.\n",
    "response = instance.invoke(\"transcribe\", url=\"https://www.notion.so/69f267134bd44249817339cad1a2e140#6575059dc4f14ead922e8e09f0afee6b\")\n",
    "print(response)"
   ]
  },
  {
   "cell_type": "code",
   "execution_count": null,
   "metadata": {
    "pycharm": {
     "name": "#%%\n"
    }
   },
   "outputs": [],
   "source": [
    "print(instance.invocation_url)"
   ]
  },
  {
   "cell_type": "code",
   "execution_count": null,
   "metadata": {
    "pycharm": {
     "name": "#%%\n"
    }
   },
   "outputs": [],
   "source": [
    "instance.package_version_id"
   ]
  },
  {
   "cell_type": "code",
   "execution_count": null,
   "metadata": {
    "pycharm": {
     "name": "#%%\n"
    }
   },
   "outputs": [],
   "source": []
  }
 ],
 "metadata": {
  "kernelspec": {
   "display_name": "Python 3.10.1 64-bit ('3.10.1')",
   "language": "python",
   "name": "python3"
  },
  "language_info": {
   "codemirror_mode": {
    "name": "ipython",
    "version": 3
   },
   "file_extension": ".py",
   "mimetype": "text/x-python",
   "name": "python",
   "nbconvert_exporter": "python",
   "pygments_lexer": "ipython3",
   "version": "3.10.1"
  },
  "vscode": {
   "interpreter": {
    "hash": "d89c39eb4a984fcf43ceca0b8c5be43979e9b8f7a2029ea8a54f4a0f5b2e7ef9"
   }
  }
 },
 "nbformat": 4,
 "nbformat_minor": 0
}
