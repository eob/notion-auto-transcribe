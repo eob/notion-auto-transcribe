{
 "cells": [
  {
   "cell_type": "code",
   "execution_count": 14,
   "metadata": {
    "pycharm": {
     "name": "#%%\n"
    }
   },
   "outputs": [
    {
     "name": "stdout",
     "output_type": "stream",
     "text": [
      "Requirement already satisfied: steamship in /Users/edwardbenson/steamship-fun/notion-auto-transcribe/.venv/lib/python3.8/site-packages (2.2.0)\r\n",
      "Requirement already satisfied: requests==2.28.1 in /Users/edwardbenson/steamship-fun/notion-auto-transcribe/.venv/lib/python3.8/site-packages (from steamship) (2.28.1)\r\n",
      "Requirement already satisfied: toml==0.10.2 in /Users/edwardbenson/steamship-fun/notion-auto-transcribe/.venv/lib/python3.8/site-packages (from steamship) (0.10.2)\r\n",
      "Requirement already satisfied: aiohttp==3.8.1 in /Users/edwardbenson/steamship-fun/notion-auto-transcribe/.venv/lib/python3.8/site-packages (from steamship) (3.8.1)\r\n",
      "Requirement already satisfied: pydantic==1.10.2 in /Users/edwardbenson/steamship-fun/notion-auto-transcribe/.venv/lib/python3.8/site-packages (from steamship) (1.10.2)\r\n",
      "Requirement already satisfied: fluent-logger==0.10.0 in /Users/edwardbenson/steamship-fun/notion-auto-transcribe/.venv/lib/python3.8/site-packages (from steamship) (0.10.0)\r\n",
      "Requirement already satisfied: inflection==0.5.1 in /Users/edwardbenson/steamship-fun/notion-auto-transcribe/.venv/lib/python3.8/site-packages (from steamship) (0.5.1)\r\n",
      "Requirement already satisfied: yarl<2.0,>=1.0 in /Users/edwardbenson/steamship-fun/notion-auto-transcribe/.venv/lib/python3.8/site-packages (from aiohttp==3.8.1->steamship) (1.8.1)\r\n",
      "Requirement already satisfied: frozenlist>=1.1.1 in /Users/edwardbenson/steamship-fun/notion-auto-transcribe/.venv/lib/python3.8/site-packages (from aiohttp==3.8.1->steamship) (1.3.3)\r\n",
      "Requirement already satisfied: attrs>=17.3.0 in /Users/edwardbenson/steamship-fun/notion-auto-transcribe/.venv/lib/python3.8/site-packages (from aiohttp==3.8.1->steamship) (22.1.0)\r\n",
      "Requirement already satisfied: multidict<7.0,>=4.5 in /Users/edwardbenson/steamship-fun/notion-auto-transcribe/.venv/lib/python3.8/site-packages (from aiohttp==3.8.1->steamship) (6.0.2)\r\n",
      "Requirement already satisfied: async-timeout<5.0,>=4.0.0a3 in /Users/edwardbenson/steamship-fun/notion-auto-transcribe/.venv/lib/python3.8/site-packages (from aiohttp==3.8.1->steamship) (4.0.2)\r\n",
      "Requirement already satisfied: charset-normalizer<3.0,>=2.0 in /Users/edwardbenson/steamship-fun/notion-auto-transcribe/.venv/lib/python3.8/site-packages (from aiohttp==3.8.1->steamship) (2.1.1)\r\n",
      "Requirement already satisfied: aiosignal>=1.1.2 in /Users/edwardbenson/steamship-fun/notion-auto-transcribe/.venv/lib/python3.8/site-packages (from aiohttp==3.8.1->steamship) (1.3.1)\r\n",
      "Requirement already satisfied: msgpack>1.0 in /Users/edwardbenson/steamship-fun/notion-auto-transcribe/.venv/lib/python3.8/site-packages (from fluent-logger==0.10.0->steamship) (1.0.4)\r\n",
      "Requirement already satisfied: typing-extensions>=4.1.0 in /Users/edwardbenson/steamship-fun/notion-auto-transcribe/.venv/lib/python3.8/site-packages (from pydantic==1.10.2->steamship) (4.4.0)\r\n",
      "Requirement already satisfied: certifi>=2017.4.17 in /Users/edwardbenson/steamship-fun/notion-auto-transcribe/.venv/lib/python3.8/site-packages (from requests==2.28.1->steamship) (2022.9.24)\r\n",
      "Requirement already satisfied: urllib3<1.27,>=1.21.1 in /Users/edwardbenson/steamship-fun/notion-auto-transcribe/.venv/lib/python3.8/site-packages (from requests==2.28.1->steamship) (1.26.12)\r\n",
      "Requirement already satisfied: idna<4,>=2.5 in /Users/edwardbenson/steamship-fun/notion-auto-transcribe/.venv/lib/python3.8/site-packages (from requests==2.28.1->steamship) (3.4)\r\n",
      "\u001B[33mWARNING: You are using pip version 21.1.2; however, version 22.3.1 is available.\r\n",
      "You should consider upgrading via the '/Users/edwardbenson/steamship-fun/notion-auto-transcribe/.venv/bin/python -m pip install --upgrade pip' command.\u001B[0m\r\n",
      "Note: you may need to restart the kernel to use updated packages.\n"
     ]
    }
   ],
   "source": [
    "%pip install --upgrade steamship"
   ]
  },
  {
   "cell_type": "code",
   "execution_count": 15,
   "metadata": {
    "pycharm": {
     "name": "#%%\n"
    }
   },
   "outputs": [],
   "source": [
    "from steamship import Steamship"
   ]
  },
  {
   "cell_type": "markdown",
   "metadata": {},
   "source": [
    "# my-package Demo - Steamship Python Client\n",
    "\n",
    "This notebook provides an example of using `my-package` from Steamship's Python client.\n",
    "\n",
    "To authenticate with Steamship, install the Steamship CLI with:\n",
    "\n",
    "```bash\n",
    "> npm install -g @steamship/cli\n",
    "```\n",
    "\n",
    "And then login with:\n",
    "\n",
    "```bash\n",
    "> ship login\n",
    "```\n",
    "\n",
    "Note that this notebook uses the following Python dependencies not included in `requirements.txt`:\n",
    "\n",
    "* pandas"
   ]
  },
  {
   "cell_type": "code",
   "execution_count": 22,
   "metadata": {},
   "outputs": [
    {
     "name": "stdout",
     "output_type": "stream",
     "text": [
      "Created package instance ted-notion-test-4 in workspace ted-notion-test-4\n"
     ]
    }
   ],
   "source": [
    "# Create an instance of the package. Credentials will be loaded from ~/.steamship.json\n",
    "instance = Steamship.use(\"notion-auto-transcribe-ted\", \"ted-notion-test-4\", config={\n",
    "    \"notion_key\": \"TODO-PUT-HERE\"\n",
    "})\n",
    "\n",
    "print(\n",
    "    f\"Created package instance {instance.handle} in workspace {instance.client.config.workspace_handle or 'default'}\")"
   ]
  },
  {
   "cell_type": "code",
   "execution_count": 23,
   "metadata": {
    "pycharm": {
     "name": "#%%\n"
    }
   },
   "outputs": [
    {
     "name": "stdout",
     "output_type": "stream",
     "text": [
      "{'type': 'block', 'results': [{'object': 'block', 'type': 'paragraph', 'created_time': '2022-11-15T05:22:00.000Z', 'parent': {'type': 'page_id', 'page_id': '69f26713-4bd4-4249-8173-39cad1a2e140'}, 'last_edited_by': {'object': 'user', 'id': '17640a4c-e939-41e6-9fe0-6cfbb685bc2a'}, 'last_edited_time': '2022-11-15T05:22:00.000Z', 'created_by': {'object': 'user', 'id': '17640a4c-e939-41e6-9fe0-6cfbb685bc2a'}, 'id': '3073ad18-0255-449d-9c36-027d1aca6979', 'has_children': False, 'paragraph': {'color': 'default', 'rich_text': [{'href': None, 'type': 'text', 'plain_text': \"cows can't catch crows\", 'annotations': {'italic': False, 'code': False, 'underline': False, 'bold': False, 'strikethrough': False, 'color': 'default'}, 'text': {'link': None, 'content': \"cows can't catch crows\"}}]}, 'archived': False}], 'block': {}, 'object': 'list', 'next_cursor': None, 'has_more': False}\n"
     ]
    }
   ],
   "source": [
    "# Now let's use the package.\n",
    "response = instance.invoke(\"transcribe\", url=\"https://www.notion.so/69f267134bd44249817339cad1a2e140#6575059dc4f14ead922e8e09f0afee6b\")\n",
    "print(response)"
   ]
  },
  {
   "cell_type": "code",
   "execution_count": 16,
   "metadata": {
    "pycharm": {
     "name": "#%%\n"
    }
   },
   "outputs": [
    {
     "name": "stdout",
     "output_type": "stream",
     "text": [
      "https://kingly-sunrise.steamship.run/yujian-notion-test/yujian-notion-test/\n"
     ]
    }
   ],
   "source": [
    "print(instance.invocation_url)"
   ]
  },
  {
   "cell_type": "code",
   "execution_count": 21,
   "metadata": {
    "pycharm": {
     "name": "#%%\n"
    }
   },
   "outputs": [
    {
     "data": {
      "text/plain": "'CDB5B009-33B9-4D67-ACB6-1D9FC9998368'"
     },
     "execution_count": 21,
     "metadata": {},
     "output_type": "execute_result"
    }
   ],
   "source": [
    "instance.package_version_id"
   ]
  },
  {
   "cell_type": "code",
   "execution_count": null,
   "outputs": [],
   "source": [],
   "metadata": {
    "collapsed": false,
    "pycharm": {
     "name": "#%%\n"
    }
   }
  }
 ],
 "metadata": {
  "kernelspec": {
   "display_name": "Python 3.10.1 64-bit ('3.10.1')",
   "language": "python",
   "name": "python3"
  },
  "language_info": {
   "codemirror_mode": {
    "name": "ipython",
    "version": 3
   },
   "file_extension": ".py",
   "mimetype": "text/x-python",
   "name": "python",
   "nbconvert_exporter": "python",
   "pygments_lexer": "ipython3",
   "version": "3.10.1"
  },
  "vscode": {
   "interpreter": {
    "hash": "d89c39eb4a984fcf43ceca0b8c5be43979e9b8f7a2029ea8a54f4a0f5b2e7ef9"
   }
  }
 },
 "nbformat": 4,
 "nbformat_minor": 0
}