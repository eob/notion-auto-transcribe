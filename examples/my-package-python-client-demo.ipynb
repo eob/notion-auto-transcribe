{
 "cells": [
  {
   "cell_type": "code",
   "execution_count": 1,
   "metadata": {
    "pycharm": {
     "name": "#%%\n"
    }
   },
   "outputs": [
    {
     "name": "stdout",
     "output_type": "stream",
     "text": [
      "Requirement already satisfied: steamship==2.2.0b2 in /Users/yujian/.pyenv/versions/3.10.1/lib/python3.10/site-packages (2.2.0b2)\n",
      "Requirement already satisfied: inflection==0.5.1 in /Users/yujian/.pyenv/versions/3.10.1/lib/python3.10/site-packages (from steamship==2.2.0b2) (0.5.1)\n",
      "Requirement already satisfied: pydantic==1.10.2 in /Users/yujian/.pyenv/versions/3.10.1/lib/python3.10/site-packages (from steamship==2.2.0b2) (1.10.2)\n",
      "Requirement already satisfied: requests==2.28.1 in /Users/yujian/.pyenv/versions/3.10.1/lib/python3.10/site-packages (from steamship==2.2.0b2) (2.28.1)\n",
      "Requirement already satisfied: fluent-logger==0.10.0 in /Users/yujian/.pyenv/versions/3.10.1/lib/python3.10/site-packages (from steamship==2.2.0b2) (0.10.0)\n",
      "Requirement already satisfied: aiohttp==3.8.1 in /Users/yujian/.pyenv/versions/3.10.1/lib/python3.10/site-packages (from steamship==2.2.0b2) (3.8.1)\n",
      "Requirement already satisfied: toml==0.10.2 in /Users/yujian/.pyenv/versions/3.10.1/lib/python3.10/site-packages (from steamship==2.2.0b2) (0.10.2)\n",
      "Requirement already satisfied: frozenlist>=1.1.1 in /Users/yujian/.pyenv/versions/3.10.1/lib/python3.10/site-packages (from aiohttp==3.8.1->steamship==2.2.0b2) (1.3.1)\n",
      "Requirement already satisfied: yarl<2.0,>=1.0 in /Users/yujian/.pyenv/versions/3.10.1/lib/python3.10/site-packages (from aiohttp==3.8.1->steamship==2.2.0b2) (1.8.1)\n",
      "Requirement already satisfied: multidict<7.0,>=4.5 in /Users/yujian/.pyenv/versions/3.10.1/lib/python3.10/site-packages (from aiohttp==3.8.1->steamship==2.2.0b2) (6.0.2)\n",
      "Requirement already satisfied: async-timeout<5.0,>=4.0.0a3 in /Users/yujian/.pyenv/versions/3.10.1/lib/python3.10/site-packages (from aiohttp==3.8.1->steamship==2.2.0b2) (4.0.2)\n",
      "Requirement already satisfied: charset-normalizer<3.0,>=2.0 in /Users/yujian/.pyenv/versions/3.10.1/lib/python3.10/site-packages (from aiohttp==3.8.1->steamship==2.2.0b2) (2.0.12)\n",
      "Requirement already satisfied: attrs>=17.3.0 in /Users/yujian/.pyenv/versions/3.10.1/lib/python3.10/site-packages (from aiohttp==3.8.1->steamship==2.2.0b2) (22.1.0)\n",
      "Requirement already satisfied: aiosignal>=1.1.2 in /Users/yujian/.pyenv/versions/3.10.1/lib/python3.10/site-packages (from aiohttp==3.8.1->steamship==2.2.0b2) (1.2.0)\n",
      "Requirement already satisfied: msgpack>1.0 in /Users/yujian/.pyenv/versions/3.10.1/lib/python3.10/site-packages (from fluent-logger==0.10.0->steamship==2.2.0b2) (1.0.4)\n",
      "Requirement already satisfied: typing-extensions>=4.1.0 in /Users/yujian/.pyenv/versions/3.10.1/lib/python3.10/site-packages (from pydantic==1.10.2->steamship==2.2.0b2) (4.3.0)\n",
      "Requirement already satisfied: idna<4,>=2.5 in /Users/yujian/.pyenv/versions/3.10.1/lib/python3.10/site-packages (from requests==2.28.1->steamship==2.2.0b2) (3.3)\n",
      "Requirement already satisfied: urllib3<1.27,>=1.21.1 in /Users/yujian/.pyenv/versions/3.10.1/lib/python3.10/site-packages (from requests==2.28.1->steamship==2.2.0b2) (1.26.11)\n",
      "Requirement already satisfied: certifi>=2017.4.17 in /Users/yujian/.pyenv/versions/3.10.1/lib/python3.10/site-packages (from requests==2.28.1->steamship==2.2.0b2) (2022.6.15)\n",
      "\n",
      "\u001b[1m[\u001b[0m\u001b[34;49mnotice\u001b[0m\u001b[1;39;49m]\u001b[0m\u001b[39;49m A new release of pip available: \u001b[0m\u001b[31;49m22.2.2\u001b[0m\u001b[39;49m -> \u001b[0m\u001b[32;49m22.3.1\u001b[0m\n",
      "\u001b[1m[\u001b[0m\u001b[34;49mnotice\u001b[0m\u001b[1;39;49m]\u001b[0m\u001b[39;49m To update, run: \u001b[0m\u001b[32;49mpip install --upgrade pip\u001b[0m\n",
      "Note: you may need to restart the kernel to use updated packages.\n"
     ]
    }
   ],
   "source": [
    "%pip install --upgrade steamship==2.2.0b2"
   ]
  },
  {
   "cell_type": "code",
   "execution_count": 5,
   "metadata": {
    "pycharm": {
     "name": "#%%\n"
    }
   },
   "outputs": [],
   "source": [
    "from steamship import Steamship"
   ]
  },
  {
   "cell_type": "markdown",
   "metadata": {},
   "source": [
    "# my-package Demo - Steamship Python Client\n",
    "\n",
    "This notebook provides an example of using `my-package` from Steamship's Python client.\n",
    "\n",
    "To authenticate with Steamship, install the Steamship CLI with:\n",
    "\n",
    "```bash\n",
    "> npm install -g @steamship/cli\n",
    "```\n",
    "\n",
    "And then login with:\n",
    "\n",
    "```bash\n",
    "> ship login\n",
    "```\n",
    "\n",
    "Note that this notebook uses the following Python dependencies not included in `requirements.txt`:\n",
    "\n",
    "* pandas"
   ]
  },
  {
   "cell_type": "code",
   "execution_count": 22,
   "metadata": {
    "pycharm": {
     "name": "#%%\n"
    }
   },
   "outputs": [],
   "source": [
    "# This should match the value found in the `handle` field of `steamship.json`\n",
    "PACKAGE_HANDLE=\"notion-auto-transcribe\"\n",
    "\n",
    "# The handle of the particular instance of the package we'll be working with.\n",
    "INSTANCE_HANDLE = \"yujian-notion-test-1\""
   ]
  },
  {
   "cell_type": "code",
   "execution_count": 23,
   "metadata": {},
   "outputs": [
    {
     "name": "stderr",
     "output_type": "stream",
     "text": [
      "WARNING:root:Client received error from server: [InputInvalid]\n",
      "Found existing object with ID/handle, but field packageVersionHandle of request does not match existing object.\n",
      "WARNING:root:Client received error from server: [InputInvalid]\n",
      "Found existing object with ID/handle, but field packageVersionHandle of request does not match existing object.\n",
      "steamship.base.error.SteamshipError: [InputInvalid]\n",
      "Found existing object with ID/handle, but field packageVersionHandle of request does not match existing object.\n"
     ]
    },
    {
     "ename": "SteamshipError",
     "evalue": "[InputInvalid]\nFound existing object with ID/handle, but field packageVersionHandle of request does not match existing object.",
     "output_type": "error",
     "traceback": [
      "\u001b[0;31m---------------------------------------------------------------------------\u001b[0m",
      "\u001b[0;31mSteamshipError\u001b[0m                            Traceback (most recent call last)",
      "Cell \u001b[0;32mIn [23], line 2\u001b[0m\n\u001b[1;32m      1\u001b[0m \u001b[39m# Create an instance of the package. Credentials will be loaded from ~/.steamship.json\u001b[39;00m\n\u001b[0;32m----> 2\u001b[0m instance \u001b[39m=\u001b[39m Steamship\u001b[39m.\u001b[39;49muse(PACKAGE_HANDLE, INSTANCE_HANDLE, version\u001b[39m=\u001b[39;49m\u001b[39m\"\u001b[39;49m\u001b[39m1.1.1\u001b[39;49m\u001b[39m\"\u001b[39;49m, config\u001b[39m=\u001b[39;49m{\u001b[39m\"\u001b[39;49m\u001b[39mdefault_name\u001b[39;49m\u001b[39m\"\u001b[39;49m: \u001b[39m\"\u001b[39;49m\u001b[39mWorld\u001b[39;49m\u001b[39m\"\u001b[39;49m})\n\u001b[1;32m      4\u001b[0m \u001b[39mprint\u001b[39m(\n\u001b[1;32m      5\u001b[0m     \u001b[39mf\u001b[39m\u001b[39m\"\u001b[39m\u001b[39mCreated package instance \u001b[39m\u001b[39m{\u001b[39;00minstance\u001b[39m.\u001b[39mhandle\u001b[39m}\u001b[39;00m\u001b[39m of \u001b[39m\u001b[39m{\u001b[39;00mPACKAGE_HANDLE\u001b[39m}\u001b[39;00m\u001b[39m in workspace \u001b[39m\u001b[39m{\u001b[39;00minstance\u001b[39m.\u001b[39mclient\u001b[39m.\u001b[39mconfig\u001b[39m.\u001b[39mworkspace_handle \u001b[39mor\u001b[39;00m \u001b[39m'\u001b[39m\u001b[39mdefault\u001b[39m\u001b[39m'\u001b[39m\u001b[39m}\u001b[39;00m\u001b[39m\"\u001b[39m)\n",
      "File \u001b[0;32m~/.pyenv/versions/3.10.1/lib/python3.10/site-packages/steamship/client/steamship.py:99\u001b[0m, in \u001b[0;36mSteamship.use\u001b[0;34m(package_handle, instance_handle, config, version, reuse, workspace_handle, **kwargs)\u001b[0m\n\u001b[1;32m     97\u001b[0m kwargs[\u001b[39m\"\u001b[39m\u001b[39mworkspace\u001b[39m\u001b[39m\"\u001b[39m] \u001b[39m=\u001b[39m workspace_handle \u001b[39mor\u001b[39;00m instance_handle\n\u001b[1;32m     98\u001b[0m client \u001b[39m=\u001b[39m Steamship(\u001b[39m*\u001b[39m\u001b[39m*\u001b[39mkwargs)\n\u001b[0;32m---> 99\u001b[0m \u001b[39mreturn\u001b[39;00m client\u001b[39m.\u001b[39;49m_instance_use(\n\u001b[1;32m    100\u001b[0m     package_handle\u001b[39m=\u001b[39;49mpackage_handle,\n\u001b[1;32m    101\u001b[0m     instance_handle\u001b[39m=\u001b[39;49minstance_handle,\n\u001b[1;32m    102\u001b[0m     config\u001b[39m=\u001b[39;49mconfig,\n\u001b[1;32m    103\u001b[0m     version\u001b[39m=\u001b[39;49mversion,\n\u001b[1;32m    104\u001b[0m     reuse\u001b[39m=\u001b[39;49mreuse,\n\u001b[1;32m    105\u001b[0m )\n",
      "File \u001b[0;32m~/.pyenv/versions/3.10.1/lib/python3.10/site-packages/steamship/client/steamship.py:118\u001b[0m, in \u001b[0;36mSteamship._instance_use\u001b[0;34m(self, package_handle, instance_handle, config, version, reuse)\u001b[0m\n\u001b[1;32m    107\u001b[0m \u001b[39mdef\u001b[39;00m \u001b[39m_instance_use\u001b[39m(\n\u001b[1;32m    108\u001b[0m     \u001b[39mself\u001b[39m,\n\u001b[1;32m    109\u001b[0m     package_handle: \u001b[39mstr\u001b[39m,\n\u001b[0;32m   (...)\u001b[0m\n\u001b[1;32m    113\u001b[0m     reuse: \u001b[39mbool\u001b[39m \u001b[39m=\u001b[39m \u001b[39mTrue\u001b[39;00m,\n\u001b[1;32m    114\u001b[0m ) \u001b[39m-\u001b[39m\u001b[39m>\u001b[39m PackageInstance:\n\u001b[1;32m    115\u001b[0m     \u001b[39m\"\"\"Creates/loads an instance of package `package_handle`.\u001b[39;00m\n\u001b[1;32m    116\u001b[0m \n\u001b[1;32m    117\u001b[0m \u001b[39m    The instance is named `instance_handle` and located in the workspace this client is anchored to..\"\"\"\u001b[39;00m\n\u001b[0;32m--> 118\u001b[0m     instance \u001b[39m=\u001b[39m PackageInstance\u001b[39m.\u001b[39;49mcreate(\n\u001b[1;32m    119\u001b[0m         \u001b[39mself\u001b[39;49m,\n\u001b[1;32m    120\u001b[0m         package_handle\u001b[39m=\u001b[39;49mpackage_handle,\n\u001b[1;32m    121\u001b[0m         package_version_handle\u001b[39m=\u001b[39;49mversion,\n\u001b[1;32m    122\u001b[0m         handle\u001b[39m=\u001b[39;49minstance_handle,\n\u001b[1;32m    123\u001b[0m         config\u001b[39m=\u001b[39;49mconfig,\n\u001b[1;32m    124\u001b[0m         fetch_if_exists\u001b[39m=\u001b[39;49mreuse,\n\u001b[1;32m    125\u001b[0m     )\n\u001b[1;32m    127\u001b[0m     \u001b[39mreturn\u001b[39;00m instance\n",
      "File \u001b[0;32m~/.pyenv/versions/3.10.1/lib/python3.10/site-packages/steamship/data/package/package_instance.py:67\u001b[0m, in \u001b[0;36mPackageInstance.create\u001b[0;34m(client, package_id, package_handle, package_version_id, package_version_handle, handle, fetch_if_exists, config)\u001b[0m\n\u001b[1;32m     46\u001b[0m \u001b[39m@staticmethod\u001b[39m\n\u001b[1;32m     47\u001b[0m \u001b[39mdef\u001b[39;00m \u001b[39mcreate\u001b[39m(\n\u001b[1;32m     48\u001b[0m     client: Client,\n\u001b[0;32m   (...)\u001b[0m\n\u001b[1;32m     55\u001b[0m     config: Dict[\u001b[39mstr\u001b[39m, Any] \u001b[39m=\u001b[39m \u001b[39mNone\u001b[39;00m,\n\u001b[1;32m     56\u001b[0m ) \u001b[39m-\u001b[39m\u001b[39m>\u001b[39m PackageInstance:\n\u001b[1;32m     57\u001b[0m     req \u001b[39m=\u001b[39m CreatePackageInstanceRequest(\n\u001b[1;32m     58\u001b[0m         handle\u001b[39m=\u001b[39mhandle,\n\u001b[1;32m     59\u001b[0m         package_id\u001b[39m=\u001b[39mpackage_id,\n\u001b[0;32m   (...)\u001b[0m\n\u001b[1;32m     64\u001b[0m         config\u001b[39m=\u001b[39mconfig,\n\u001b[1;32m     65\u001b[0m     )\n\u001b[0;32m---> 67\u001b[0m     \u001b[39mreturn\u001b[39;00m client\u001b[39m.\u001b[39;49mpost(\u001b[39m\"\u001b[39;49m\u001b[39mpackage/instance/create\u001b[39;49m\u001b[39m\"\u001b[39;49m, payload\u001b[39m=\u001b[39;49mreq, expect\u001b[39m=\u001b[39;49mPackageInstance)\n",
      "File \u001b[0;32m~/.pyenv/versions/3.10.1/lib/python3.10/site-packages/steamship/base/client.py:485\u001b[0m, in \u001b[0;36mClient.post\u001b[0;34m(self, operation, payload, file, expect, debug, raw_response, is_package_call, package_owner, package_id, package_instance_id, as_background_task, wait_on_tasks)\u001b[0m\n\u001b[1;32m    468\u001b[0m \u001b[39mdef\u001b[39;00m \u001b[39mpost\u001b[39m(\n\u001b[1;32m    469\u001b[0m     \u001b[39mself\u001b[39m,\n\u001b[1;32m    470\u001b[0m     operation: \u001b[39mstr\u001b[39m,\n\u001b[0;32m   (...)\u001b[0m\n\u001b[1;32m    483\u001b[0m     Any, Task\n\u001b[1;32m    484\u001b[0m ]:  \u001b[39m# TODO (enias): I would like to list all possible return types using interfaces instead of Any\u001b[39;00m\n\u001b[0;32m--> 485\u001b[0m     \u001b[39mreturn\u001b[39;00m \u001b[39mself\u001b[39;49m\u001b[39m.\u001b[39;49mcall(\n\u001b[1;32m    486\u001b[0m         verb\u001b[39m=\u001b[39;49mVerb\u001b[39m.\u001b[39;49mPOST,\n\u001b[1;32m    487\u001b[0m         operation\u001b[39m=\u001b[39;49moperation,\n\u001b[1;32m    488\u001b[0m         payload\u001b[39m=\u001b[39;49mpayload,\n\u001b[1;32m    489\u001b[0m         file\u001b[39m=\u001b[39;49mfile,\n\u001b[1;32m    490\u001b[0m         expect\u001b[39m=\u001b[39;49mexpect,\n\u001b[1;32m    491\u001b[0m         debug\u001b[39m=\u001b[39;49mdebug,\n\u001b[1;32m    492\u001b[0m         raw_response\u001b[39m=\u001b[39;49mraw_response,\n\u001b[1;32m    493\u001b[0m         is_package_call\u001b[39m=\u001b[39;49mis_package_call,\n\u001b[1;32m    494\u001b[0m         package_owner\u001b[39m=\u001b[39;49mpackage_owner,\n\u001b[1;32m    495\u001b[0m         package_id\u001b[39m=\u001b[39;49mpackage_id,\n\u001b[1;32m    496\u001b[0m         package_instance_id\u001b[39m=\u001b[39;49mpackage_instance_id,\n\u001b[1;32m    497\u001b[0m         as_background_task\u001b[39m=\u001b[39;49mas_background_task,\n\u001b[1;32m    498\u001b[0m         wait_on_tasks\u001b[39m=\u001b[39;49mwait_on_tasks,\n\u001b[1;32m    499\u001b[0m     )\n",
      "File \u001b[0;32m~/.pyenv/versions/3.10.1/lib/python3.10/site-packages/steamship/base/client.py:459\u001b[0m, in \u001b[0;36mClient.call\u001b[0;34m(self, verb, operation, payload, file, expect, debug, raw_response, is_package_call, package_owner, package_id, package_instance_id, as_background_task, wait_on_tasks)\u001b[0m\n\u001b[1;32m    457\u001b[0m \u001b[39mif\u001b[39;00m error \u001b[39mis\u001b[39;00m \u001b[39mnot\u001b[39;00m \u001b[39mNone\u001b[39;00m:\n\u001b[1;32m    458\u001b[0m     logging\u001b[39m.\u001b[39mwarning(\u001b[39mf\u001b[39m\u001b[39m\"\u001b[39m\u001b[39mClient received error from server: \u001b[39m\u001b[39m{\u001b[39;00merror\u001b[39m}\u001b[39;00m\u001b[39m\"\u001b[39m, exc_info\u001b[39m=\u001b[39merror)\n\u001b[0;32m--> 459\u001b[0m     \u001b[39mraise\u001b[39;00m error\n\u001b[1;32m    461\u001b[0m \u001b[39melif\u001b[39;00m task \u001b[39mis\u001b[39;00m \u001b[39mnot\u001b[39;00m \u001b[39mNone\u001b[39;00m:\n\u001b[1;32m    462\u001b[0m     \u001b[39mreturn\u001b[39;00m task\n",
      "\u001b[0;31mSteamshipError\u001b[0m: [InputInvalid]\nFound existing object with ID/handle, but field packageVersionHandle of request does not match existing object."
     ]
    }
   ],
   "source": [
    "# Create an instance of the package. Credentials will be loaded from ~/.steamship.json\n",
    "instance = Steamship.use(PACKAGE_HANDLE, INSTANCE_HANDLE, version=\"1.1.1\", config={\"default_name\": \"World\"})\n",
    "\n",
    "print(\n",
    "    f\"Created package instance {instance.handle} of {PACKAGE_HANDLE} in workspace {instance.client.config.workspace_handle or 'default'}\")"
   ]
  },
  {
   "cell_type": "code",
   "execution_count": 19,
   "metadata": {
    "pycharm": {
     "name": "#%%\n"
    }
   },
   "outputs": [
    {
     "name": "stderr",
     "output_type": "stream",
     "text": [
      "WARNING:root:Client received error from server: There was an error processing your function. [Optional(\"Unhandled\")]\n",
      "WARNING:root:Client received error from server: There was an error processing your function. [Optional(\"Unhandled\")]\n",
      "steamship.base.error.SteamshipError: There was an error processing your function. [Optional(\"Unhandled\")]\n"
     ]
    },
    {
     "ename": "SteamshipError",
     "evalue": "There was an error processing your function. [Optional(\"Unhandled\")]",
     "output_type": "error",
     "traceback": [
      "\u001b[0;31m---------------------------------------------------------------------------\u001b[0m",
      "\u001b[0;31mSteamshipError\u001b[0m                            Traceback (most recent call last)",
      "Cell \u001b[0;32mIn [19], line 2\u001b[0m\n\u001b[1;32m      1\u001b[0m \u001b[39m# Now let's use the package.\u001b[39;00m\n\u001b[0;32m----> 2\u001b[0m response \u001b[39m=\u001b[39m instance\u001b[39m.\u001b[39;49minvoke(\u001b[39m\"\u001b[39;49m\u001b[39mtranscribe\u001b[39;49m\u001b[39m\"\u001b[39;49m, url\u001b[39m=\u001b[39;49m\u001b[39m\"\u001b[39;49m\u001b[39mhttps://www.notion.so/69f267134bd44249817339cad1a2e140#6575059dc4f14ead922e8e09f0afee6b\u001b[39;49m\u001b[39m\"\u001b[39;49m)\n\u001b[1;32m      3\u001b[0m \u001b[39mprint\u001b[39m(response)\n",
      "File \u001b[0;32m~/.pyenv/versions/3.10.1/lib/python3.10/site-packages/steamship/data/package/package_instance.py:95\u001b[0m, in \u001b[0;36mPackageInstance.invoke\u001b[0;34m(self, path, verb, **kwargs)\u001b[0m\n\u001b[1;32m     92\u001b[0m \u001b[39mif\u001b[39;00m path[\u001b[39m0\u001b[39m] \u001b[39m==\u001b[39m \u001b[39m\"\u001b[39m\u001b[39m/\u001b[39m\u001b[39m\"\u001b[39m:\n\u001b[1;32m     93\u001b[0m     path \u001b[39m=\u001b[39m path[\u001b[39m1\u001b[39m:]\n\u001b[0;32m---> 95\u001b[0m \u001b[39mreturn\u001b[39;00m \u001b[39mself\u001b[39;49m\u001b[39m.\u001b[39;49mclient\u001b[39m.\u001b[39;49mcall(\n\u001b[1;32m     96\u001b[0m     verb\u001b[39m=\u001b[39;49mverb,\n\u001b[1;32m     97\u001b[0m     operation\u001b[39m=\u001b[39;49m\u001b[39mf\u001b[39;49m\u001b[39m\"\u001b[39;49m\u001b[39m/\u001b[39;49m\u001b[39m{\u001b[39;49;00m\u001b[39mself\u001b[39;49m\u001b[39m.\u001b[39;49mworkspace_handle \u001b[39mor\u001b[39;49;00m \u001b[39m'\u001b[39;49m\u001b[39m_\u001b[39;49m\u001b[39m'\u001b[39;49m\u001b[39m}\u001b[39;49;00m\u001b[39m/\u001b[39;49m\u001b[39m{\u001b[39;49;00m\u001b[39mself\u001b[39;49m\u001b[39m.\u001b[39;49mhandle \u001b[39mor\u001b[39;49;00m \u001b[39m'\u001b[39;49m\u001b[39m_\u001b[39;49m\u001b[39m'\u001b[39;49m\u001b[39m}\u001b[39;49;00m\u001b[39m/\u001b[39;49m\u001b[39m{\u001b[39;49;00mpath\u001b[39m}\u001b[39;49;00m\u001b[39m\"\u001b[39;49m,\n\u001b[1;32m     98\u001b[0m     payload\u001b[39m=\u001b[39;49mkwargs,\n\u001b[1;32m     99\u001b[0m     is_package_call\u001b[39m=\u001b[39;49m\u001b[39mTrue\u001b[39;49;00m,\n\u001b[1;32m    100\u001b[0m     package_owner\u001b[39m=\u001b[39;49m\u001b[39mself\u001b[39;49m\u001b[39m.\u001b[39;49muser_handle,\n\u001b[1;32m    101\u001b[0m     package_id\u001b[39m=\u001b[39;49m\u001b[39mself\u001b[39;49m\u001b[39m.\u001b[39;49mpackage_id,\n\u001b[1;32m    102\u001b[0m     package_instance_id\u001b[39m=\u001b[39;49m\u001b[39mself\u001b[39;49m\u001b[39m.\u001b[39;49mid,\n\u001b[1;32m    103\u001b[0m     as_background_task\u001b[39m=\u001b[39;49m\u001b[39mFalse\u001b[39;49;00m,\n\u001b[1;32m    104\u001b[0m )\n",
      "File \u001b[0;32m~/.pyenv/versions/3.10.1/lib/python3.10/site-packages/steamship/base/client.py:459\u001b[0m, in \u001b[0;36mClient.call\u001b[0;34m(self, verb, operation, payload, file, expect, debug, raw_response, is_package_call, package_owner, package_id, package_instance_id, as_background_task, wait_on_tasks)\u001b[0m\n\u001b[1;32m    457\u001b[0m \u001b[39mif\u001b[39;00m error \u001b[39mis\u001b[39;00m \u001b[39mnot\u001b[39;00m \u001b[39mNone\u001b[39;00m:\n\u001b[1;32m    458\u001b[0m     logging\u001b[39m.\u001b[39mwarning(\u001b[39mf\u001b[39m\u001b[39m\"\u001b[39m\u001b[39mClient received error from server: \u001b[39m\u001b[39m{\u001b[39;00merror\u001b[39m}\u001b[39;00m\u001b[39m\"\u001b[39m, exc_info\u001b[39m=\u001b[39merror)\n\u001b[0;32m--> 459\u001b[0m     \u001b[39mraise\u001b[39;00m error\n\u001b[1;32m    461\u001b[0m \u001b[39melif\u001b[39;00m task \u001b[39mis\u001b[39;00m \u001b[39mnot\u001b[39;00m \u001b[39mNone\u001b[39;00m:\n\u001b[1;32m    462\u001b[0m     \u001b[39mreturn\u001b[39;00m task\n",
      "\u001b[0;31mSteamshipError\u001b[0m: There was an error processing your function. [Optional(\"Unhandled\")]"
     ]
    }
   ],
   "source": [
    "# Now let's use the package.\n",
    "response = instance.invoke(\"transcribe\", url=\"https://www.notion.so/69f267134bd44249817339cad1a2e140#6575059dc4f14ead922e8e09f0afee6b\")\n",
    "print(response)"
   ]
  },
  {
   "cell_type": "code",
   "execution_count": 16,
   "metadata": {
    "pycharm": {
     "name": "#%%\n"
    }
   },
   "outputs": [
    {
     "name": "stdout",
     "output_type": "stream",
     "text": [
      "https://kingly-sunrise.steamship.run/yujian-notion-test/yujian-notion-test/\n"
     ]
    }
   ],
   "source": [
    "print(instance.invocation_url)"
   ]
  },
  {
   "cell_type": "code",
   "execution_count": null,
   "metadata": {
    "pycharm": {
     "name": "#%%\n"
    }
   },
   "outputs": [],
   "source": []
  }
 ],
 "metadata": {
  "kernelspec": {
   "display_name": "Python 3.10.1 64-bit ('3.10.1')",
   "language": "python",
   "name": "python3"
  },
  "language_info": {
   "codemirror_mode": {
    "name": "ipython",
    "version": 3
   },
   "file_extension": ".py",
   "mimetype": "text/x-python",
   "name": "python",
   "nbconvert_exporter": "python",
   "pygments_lexer": "ipython3",
   "version": "3.10.1"
  },
  "vscode": {
   "interpreter": {
    "hash": "d89c39eb4a984fcf43ceca0b8c5be43979e9b8f7a2029ea8a54f4a0f5b2e7ef9"
   }
  }
 },
 "nbformat": 4,
 "nbformat_minor": 0
}
